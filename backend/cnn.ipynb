{
 "cells": [
  {
   "cell_type": "code",
   "execution_count": null,
   "metadata": {
    "vscode": {
     "languageId": "plaintext"
    }
   },
   "outputs": [],
   "source": [
    "import pandas as pd\n",
    "import numpy as np\n",
    "import sklearn as sk\n",
    "import os\n",
    "\n",
    "import torch\n",
    "from torchvision import models, transforms\n",
    "from PIL import Image\n",
    "\n",
    "resnet = models.resnet50(pretrained=True)\n",
    "resnet.eval()\n",
    "\n",
    "resnet = torch.nn.Sequential(*list(resnet.children())[:-1])"
   ]
  },
  {
   "cell_type": "code",
   "execution_count": null,
   "metadata": {
    "vscode": {
     "languageId": "plaintext"
    }
   },
   "outputs": [],
   "source": [
    "\"\"\"\"\n",
    "256 - Either or both (the shortest of the two) the length or width is 256 pixels wide\n",
    "224 - Center 224 x 224 pixels from image\n",
    "Mean, std are obtained from the ImageNet dataset, used for training image classification models\n",
    "    RGB order\n",
    "\"\"\"\n",
    "preprocess = transforms.Compose([\n",
    "    transforms.Resize(256),\n",
    "    transforms.CenterCrop(224),\n",
    "    transforms.ToTensor(),\n",
    "    transforms.Normalize(mean=[0.485, 0.456, 0.406], std=[0.229, 0.224, 0.225])\n",
    "])"
   ]
  },
  {
   "cell_type": "code",
   "execution_count": null,
   "metadata": {
    "vscode": {
     "languageId": "plaintext"
    }
   },
   "outputs": [],
   "source": [
    "def extract_features(image_path):\n",
    "    image = Image.open(image_path).convert(\"RGB\")\n",
    "    image = preprocess(image)\n",
    "    image = image.unsqueeze(0)\n",
    "\n",
    "    with torch.no_grad():\n",
    "        features = resnet(image)\n",
    "\n",
    "    features = features.view(features.size(0), -1)\n",
    "    return features\n",
    "imagefolder = \"\"\n",
    "feature_list = []\n",
    "for skin_disease_folder, , files in os.walk(image_folder):\n",
    "    for image in files:\n",
    "        if image.endswith(\".jpg\"):\n",
    "            image_path = os.path.join(skin_disease_folder, image)\n",
    "            features = extract_features(image_path)\n",
    "            feature_list.append(features)"
   ]
  }
 ],
 "metadata": {
  "language_info": {
   "name": "python"
  }
 },
 "nbformat": 4,
 "nbformat_minor": 2
}
